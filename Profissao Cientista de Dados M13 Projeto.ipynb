{
 "cells": [
  {
   "cell_type": "markdown",
   "metadata": {
    "id": "VOTu7U3Mvxzq"
   },
   "source": [
    "# **MÓDULO 13**\n",
    "# Projeto - Fundamentos da Descoberta de Dados"
   ]
  },
  {
   "cell_type": "markdown",
   "metadata": {
    "id": "-HYgkdAywLd0"
   },
   "source": [
    "Nesse projeto trabalharemos com a base de dados de produtos de um supermercado do Chile.\n",
    "A ideia é que vocês apliquem os conceitos estatísticos vistos no último módulo, mais os conceitos de visualizações de dados através de gráficos e finalizem publicando no seu github!"
   ]
  },
  {
   "cell_type": "code",
   "execution_count": 1,
   "metadata": {
    "id": "OTdTnbzUwE2X"
   },
   "outputs": [],
   "source": [
    "import pandas as pd\n",
    "import matplotlib.pyplot as plt\n",
    "import plotly.express as px"
   ]
  },
  {
   "cell_type": "markdown",
   "metadata": {
    "id": "ky1Dk_KWywEa"
   },
   "source": [
    "Faça a leitura dos dados do arquivo CSV:\n",
    "\n",
    "\n",
    "Altere o código abaixo de acordo com seu diretório."
   ]
  },
  {
   "cell_type": "code",
   "execution_count": 2,
   "metadata": {
    "colab": {
     "base_uri": "https://localhost:8080/",
     "height": 363
    },
    "id": "bRBFyVB5wlny",
    "outputId": "cde5190b-fecf-48f8-e98c-5ec7e469bcfb"
   },
   "outputs": [
    {
     "data": {
      "text/html": [
       "<div>\n",
       "<style scoped>\n",
       "    .dataframe tbody tr th:only-of-type {\n",
       "        vertical-align: middle;\n",
       "    }\n",
       "\n",
       "    .dataframe tbody tr th {\n",
       "        vertical-align: top;\n",
       "    }\n",
       "\n",
       "    .dataframe thead th {\n",
       "        text-align: right;\n",
       "    }\n",
       "</style>\n",
       "<table border=\"1\" class=\"dataframe\">\n",
       "  <thead>\n",
       "    <tr style=\"text-align: right;\">\n",
       "      <th></th>\n",
       "      <th>title</th>\n",
       "      <th>Marca</th>\n",
       "      <th>Preco_Normal</th>\n",
       "      <th>Preco_Desconto</th>\n",
       "      <th>Preco_Anterior</th>\n",
       "      <th>Desconto</th>\n",
       "      <th>Categoria</th>\n",
       "    </tr>\n",
       "  </thead>\n",
       "  <tbody>\n",
       "    <tr>\n",
       "      <th>0</th>\n",
       "      <td>Pack 12 un, Leche extra proteína 1 L</td>\n",
       "      <td>Loncoleche</td>\n",
       "      <td>19788</td>\n",
       "      <td>0</td>\n",
       "      <td>0</td>\n",
       "      <td>0</td>\n",
       "      <td>lacteos</td>\n",
       "    </tr>\n",
       "    <tr>\n",
       "      <th>1</th>\n",
       "      <td>Pack 12 un, Leche chocolate receta original 1 L</td>\n",
       "      <td>Soprole</td>\n",
       "      <td>18228</td>\n",
       "      <td>0</td>\n",
       "      <td>0</td>\n",
       "      <td>0</td>\n",
       "      <td>lacteos</td>\n",
       "    </tr>\n",
       "    <tr>\n",
       "      <th>2</th>\n",
       "      <td>Pack 12 un, Leche semidescremada chocolate 1 L</td>\n",
       "      <td>Soprole</td>\n",
       "      <td>18228</td>\n",
       "      <td>0</td>\n",
       "      <td>0</td>\n",
       "      <td>0</td>\n",
       "      <td>lacteos</td>\n",
       "    </tr>\n",
       "    <tr>\n",
       "      <th>3</th>\n",
       "      <td>Pack 12 un, Leche semidescremada frutilla 1 L</td>\n",
       "      <td>Soprole</td>\n",
       "      <td>18228</td>\n",
       "      <td>0</td>\n",
       "      <td>0</td>\n",
       "      <td>0</td>\n",
       "      <td>lacteos</td>\n",
       "    </tr>\n",
       "    <tr>\n",
       "      <th>4</th>\n",
       "      <td>Pack 12 un, Leche sin lactosa chocolate 1 L</td>\n",
       "      <td>Loncoleche</td>\n",
       "      <td>17988</td>\n",
       "      <td>0</td>\n",
       "      <td>0</td>\n",
       "      <td>0</td>\n",
       "      <td>lacteos</td>\n",
       "    </tr>\n",
       "    <tr>\n",
       "      <th>5</th>\n",
       "      <td>Pack 12 un, Leche sin lactosa frutilla 1 L</td>\n",
       "      <td>Loncoleche</td>\n",
       "      <td>17988</td>\n",
       "      <td>0</td>\n",
       "      <td>0</td>\n",
       "      <td>0</td>\n",
       "      <td>lacteos</td>\n",
       "    </tr>\n",
       "    <tr>\n",
       "      <th>6</th>\n",
       "      <td>Pack 12 un, Leche saborizada light chocolate 1 L</td>\n",
       "      <td>Loncoleche</td>\n",
       "      <td>17988</td>\n",
       "      <td>0</td>\n",
       "      <td>0</td>\n",
       "      <td>0</td>\n",
       "      <td>lacteos</td>\n",
       "    </tr>\n",
       "    <tr>\n",
       "      <th>7</th>\n",
       "      <td>Pack 12 un, Leche saborizada frutilla 1 L</td>\n",
       "      <td>Colun</td>\n",
       "      <td>17388</td>\n",
       "      <td>0</td>\n",
       "      <td>0</td>\n",
       "      <td>0</td>\n",
       "      <td>lacteos</td>\n",
       "    </tr>\n",
       "    <tr>\n",
       "      <th>8</th>\n",
       "      <td>Pack 12 un, Leche saborizada vainilla 1 L</td>\n",
       "      <td>Colun</td>\n",
       "      <td>17388</td>\n",
       "      <td>0</td>\n",
       "      <td>0</td>\n",
       "      <td>0</td>\n",
       "      <td>lacteos</td>\n",
       "    </tr>\n",
       "    <tr>\n",
       "      <th>9</th>\n",
       "      <td>Pack 12 un, Leche saborizada manjar 1 L</td>\n",
       "      <td>Colun</td>\n",
       "      <td>17388</td>\n",
       "      <td>0</td>\n",
       "      <td>0</td>\n",
       "      <td>0</td>\n",
       "      <td>lacteos</td>\n",
       "    </tr>\n",
       "  </tbody>\n",
       "</table>\n",
       "</div>"
      ],
      "text/plain": [
       "                                              title       Marca  Preco_Normal  \\\n",
       "0              Pack 12 un, Leche extra proteína 1 L  Loncoleche         19788   \n",
       "1   Pack 12 un, Leche chocolate receta original 1 L     Soprole         18228   \n",
       "2    Pack 12 un, Leche semidescremada chocolate 1 L     Soprole         18228   \n",
       "3     Pack 12 un, Leche semidescremada frutilla 1 L     Soprole         18228   \n",
       "4       Pack 12 un, Leche sin lactosa chocolate 1 L  Loncoleche         17988   \n",
       "5        Pack 12 un, Leche sin lactosa frutilla 1 L  Loncoleche         17988   \n",
       "6  Pack 12 un, Leche saborizada light chocolate 1 L  Loncoleche         17988   \n",
       "7         Pack 12 un, Leche saborizada frutilla 1 L       Colun         17388   \n",
       "8         Pack 12 un, Leche saborizada vainilla 1 L       Colun         17388   \n",
       "9           Pack 12 un, Leche saborizada manjar 1 L       Colun         17388   \n",
       "\n",
       "   Preco_Desconto  Preco_Anterior  Desconto Categoria  \n",
       "0               0               0         0   lacteos  \n",
       "1               0               0         0   lacteos  \n",
       "2               0               0         0   lacteos  \n",
       "3               0               0         0   lacteos  \n",
       "4               0               0         0   lacteos  \n",
       "5               0               0         0   lacteos  \n",
       "6               0               0         0   lacteos  \n",
       "7               0               0         0   lacteos  \n",
       "8               0               0         0   lacteos  \n",
       "9               0               0         0   lacteos  "
      ]
     },
     "execution_count": 2,
     "metadata": {},
     "output_type": "execute_result"
    }
   ],
   "source": [
    "df = pd.read_csv(\"MODULO7_PROJETOFINAL_BASE_SUPERMERCADO.csv\")\n",
    "\n",
    "df.head(10)"
   ]
  },
  {
   "cell_type": "markdown",
   "metadata": {
    "id": "YJgKJ7Nxwtw2"
   },
   "source": [
    "Os campos do nosso dataframe são:\n",
    "\n",
    "**Title:** Nome do produto.\n",
    "\n",
    "\n",
    "**Marca:** A marca do produto.\n",
    "\n",
    "\n",
    "**Preco_Normal:** O preço em que o produto costuma ser vendido quando não há desconto.\n",
    "\n",
    "\n",
    "**Preco_Desconto:** O preço vendido após o desconto ser aplicado.\n",
    "\n",
    "\n",
    "**Preco_Anterior:** Preço em que era comercializado o produto antes do desconto aplicado.\n",
    "\n",
    "\n",
    "**Desconto:** Total de desconto aplicado.\n",
    "\n",
    "\n",
    "\n",
    "\n",
    "\n",
    "\n",
    "As colunas que aparecem com valores 0 são para os produtos onde não tivemos descontos aplicados.\n",
    "\n",
    "\n",
    "As categorias estão em espanhol!"
   ]
  },
  {
   "cell_type": "markdown",
   "metadata": {
    "id": "4u6WBeyyy6ri"
   },
   "source": [
    "# 1 - Traga a média e a mediana dos preços - coluna Preco_Normal - por categoria de produto.\n",
    "# Identifique as categorias que parecem ter um valor de média abaixo ou acima da mediana."
   ]
  },
  {
   "cell_type": "code",
   "execution_count": 3,
   "metadata": {
    "id": "E7B7FolOzVcJ"
   },
   "outputs": [
    {
     "data": {
      "text/html": [
       "<div>\n",
       "<style scoped>\n",
       "    .dataframe tbody tr th:only-of-type {\n",
       "        vertical-align: middle;\n",
       "    }\n",
       "\n",
       "    .dataframe tbody tr th {\n",
       "        vertical-align: top;\n",
       "    }\n",
       "\n",
       "    .dataframe thead th {\n",
       "        text-align: right;\n",
       "    }\n",
       "</style>\n",
       "<table border=\"1\" class=\"dataframe\">\n",
       "  <thead>\n",
       "    <tr style=\"text-align: right;\">\n",
       "      <th></th>\n",
       "      <th>Categoria</th>\n",
       "      <th>Preco_Normal</th>\n",
       "    </tr>\n",
       "  </thead>\n",
       "  <tbody>\n",
       "    <tr>\n",
       "      <th>1</th>\n",
       "      <td>comidas-preparadas</td>\n",
       "      <td>3095.04</td>\n",
       "    </tr>\n",
       "    <tr>\n",
       "      <th>5</th>\n",
       "      <td>lacteos</td>\n",
       "      <td>2385.22</td>\n",
       "    </tr>\n",
       "    <tr>\n",
       "      <th>2</th>\n",
       "      <td>congelados</td>\n",
       "      <td>2108.04</td>\n",
       "    </tr>\n",
       "    <tr>\n",
       "      <th>0</th>\n",
       "      <td>belleza-y-cuidado-personal</td>\n",
       "      <td>1783.56</td>\n",
       "    </tr>\n",
       "    <tr>\n",
       "      <th>3</th>\n",
       "      <td>frutas</td>\n",
       "      <td>1724.47</td>\n",
       "    </tr>\n",
       "    <tr>\n",
       "      <th>6</th>\n",
       "      <td>verduras</td>\n",
       "      <td>1343.30</td>\n",
       "    </tr>\n",
       "    <tr>\n",
       "      <th>4</th>\n",
       "      <td>instantaneos-y-sopas</td>\n",
       "      <td>765.49</td>\n",
       "    </tr>\n",
       "  </tbody>\n",
       "</table>\n",
       "</div>"
      ],
      "text/plain": [
       "                    Categoria  Preco_Normal\n",
       "1          comidas-preparadas       3095.04\n",
       "5                     lacteos       2385.22\n",
       "2                  congelados       2108.04\n",
       "0  belleza-y-cuidado-personal       1783.56\n",
       "3                      frutas       1724.47\n",
       "6                    verduras       1343.30\n",
       "4        instantaneos-y-sopas        765.49"
      ]
     },
     "execution_count": 3,
     "metadata": {},
     "output_type": "execute_result"
    }
   ],
   "source": [
    "#Seu código aqui para a média\n",
    "df.groupby('Categoria')['Preco_Normal'].mean().round(2).reset_index().sort_values('Preco_Normal', ascending=False)\n",
    "# Agrupa o df por categoria e cálcula a média de 'Preco_Normal' de cada um(arredondado para duas casas decimais e mostrado em ordem descrecente) "
   ]
  },
  {
   "cell_type": "code",
   "execution_count": 4,
   "metadata": {
    "id": "Rwf4V3hnzZwh"
   },
   "outputs": [
    {
     "data": {
      "text/html": [
       "<div>\n",
       "<style scoped>\n",
       "    .dataframe tbody tr th:only-of-type {\n",
       "        vertical-align: middle;\n",
       "    }\n",
       "\n",
       "    .dataframe tbody tr th {\n",
       "        vertical-align: top;\n",
       "    }\n",
       "\n",
       "    .dataframe thead th {\n",
       "        text-align: right;\n",
       "    }\n",
       "</style>\n",
       "<table border=\"1\" class=\"dataframe\">\n",
       "  <thead>\n",
       "    <tr style=\"text-align: right;\">\n",
       "      <th></th>\n",
       "      <th>Categoria</th>\n",
       "      <th>Preco_Normal</th>\n",
       "    </tr>\n",
       "  </thead>\n",
       "  <tbody>\n",
       "    <tr>\n",
       "      <th>1</th>\n",
       "      <td>comidas-preparadas</td>\n",
       "      <td>3290.0</td>\n",
       "    </tr>\n",
       "    <tr>\n",
       "      <th>0</th>\n",
       "      <td>belleza-y-cuidado-personal</td>\n",
       "      <td>1569.0</td>\n",
       "    </tr>\n",
       "    <tr>\n",
       "      <th>2</th>\n",
       "      <td>congelados</td>\n",
       "      <td>1519.0</td>\n",
       "    </tr>\n",
       "    <tr>\n",
       "      <th>3</th>\n",
       "      <td>frutas</td>\n",
       "      <td>1195.0</td>\n",
       "    </tr>\n",
       "    <tr>\n",
       "      <th>6</th>\n",
       "      <td>verduras</td>\n",
       "      <td>1180.0</td>\n",
       "    </tr>\n",
       "    <tr>\n",
       "      <th>5</th>\n",
       "      <td>lacteos</td>\n",
       "      <td>989.0</td>\n",
       "    </tr>\n",
       "    <tr>\n",
       "      <th>4</th>\n",
       "      <td>instantaneos-y-sopas</td>\n",
       "      <td>439.0</td>\n",
       "    </tr>\n",
       "  </tbody>\n",
       "</table>\n",
       "</div>"
      ],
      "text/plain": [
       "                    Categoria  Preco_Normal\n",
       "1          comidas-preparadas        3290.0\n",
       "0  belleza-y-cuidado-personal        1569.0\n",
       "2                  congelados        1519.0\n",
       "3                      frutas        1195.0\n",
       "6                    verduras        1180.0\n",
       "5                     lacteos         989.0\n",
       "4        instantaneos-y-sopas         439.0"
      ]
     },
     "execution_count": 4,
     "metadata": {},
     "output_type": "execute_result"
    }
   ],
   "source": [
    "#Seu código aqui para a mediana\n",
    "df.groupby('Categoria')['Preco_Normal'].median().reset_index().sort_values('Preco_Normal', ascending=False)\n",
    "# Agrupa o df por categoria e evidencia a mediana de 'Preco_Normal' de cada um(mostrado em ordem descrecente)"
   ]
  },
  {
   "cell_type": "markdown",
   "metadata": {
    "id": "nKBFOh-mzyWX"
   },
   "source": [
    "# Digite aqui as categorias:\n",
    "\n",
    "**Categorias com Média pouco maior que a Mediana:** *'belleza-y-cuidado-personal', 'verduras', 'instataneos-y-sopas'*\n",
    "Os valores da média das categorias acima são levemente maiores que a mediana(diferença de **200 à 300**), o que indica uma pequena assimetria para direita, porém não é tão evidente a ponto de serem outliers\n",
    "\n",
    "**Categorias com Média muito maior que a Mediana:** *'congelados', 'frutas', 'lacteos'*\n",
    "\n",
    "Os valores da média das categorias acima são consideravelmente maiores que a mediana(diferença de **600 à 1400**), gerando uma grande assimetria para direita, o que indica a presença de outliers com preços que elevam muito a média e, portanto, devem ser analisados\n",
    "\n",
    "**Categorias com Média menor que a Mediana:** *'comidas-preparadas'*\n",
    "\n",
    "O valor da média da categoria acima é a única com média menor que a mediana(diferença de **200**), causando apenas uma leve assimetria para esquerda, não tão significativa para revelar a presença de outliers"
   ]
  },
  {
   "cell_type": "markdown",
   "metadata": {
    "id": "jdHZurzDzca0"
   },
   "source": [
    "# 2 - Traga o desvio padrão por categoria de produto.\n",
    "# Qual o comportamento da média e mediana nas categorias com maior desvio?"
   ]
  },
  {
   "cell_type": "code",
   "execution_count": 5,
   "metadata": {
    "id": "xEXT1gtoz135"
   },
   "outputs": [
    {
     "data": {
      "text/html": [
       "<div>\n",
       "<style scoped>\n",
       "    .dataframe tbody tr th:only-of-type {\n",
       "        vertical-align: middle;\n",
       "    }\n",
       "\n",
       "    .dataframe tbody tr th {\n",
       "        vertical-align: top;\n",
       "    }\n",
       "\n",
       "    .dataframe thead th {\n",
       "        text-align: right;\n",
       "    }\n",
       "</style>\n",
       "<table border=\"1\" class=\"dataframe\">\n",
       "  <thead>\n",
       "    <tr style=\"text-align: right;\">\n",
       "      <th></th>\n",
       "      <th>Categoria</th>\n",
       "      <th>Preco_Normal</th>\n",
       "    </tr>\n",
       "  </thead>\n",
       "  <tbody>\n",
       "    <tr>\n",
       "      <th>5</th>\n",
       "      <td>lacteos</td>\n",
       "      <td>3925.82</td>\n",
       "    </tr>\n",
       "    <tr>\n",
       "      <th>0</th>\n",
       "      <td>belleza-y-cuidado-personal</td>\n",
       "      <td>2210.04</td>\n",
       "    </tr>\n",
       "    <tr>\n",
       "      <th>2</th>\n",
       "      <td>congelados</td>\n",
       "      <td>2111.54</td>\n",
       "    </tr>\n",
       "    <tr>\n",
       "      <th>1</th>\n",
       "      <td>comidas-preparadas</td>\n",
       "      <td>2019.91</td>\n",
       "    </tr>\n",
       "    <tr>\n",
       "      <th>3</th>\n",
       "      <td>frutas</td>\n",
       "      <td>1639.15</td>\n",
       "    </tr>\n",
       "    <tr>\n",
       "      <th>4</th>\n",
       "      <td>instantaneos-y-sopas</td>\n",
       "      <td>1170.23</td>\n",
       "    </tr>\n",
       "    <tr>\n",
       "      <th>6</th>\n",
       "      <td>verduras</td>\n",
       "      <td>1012.70</td>\n",
       "    </tr>\n",
       "  </tbody>\n",
       "</table>\n",
       "</div>"
      ],
      "text/plain": [
       "                    Categoria  Preco_Normal\n",
       "5                     lacteos       3925.82\n",
       "0  belleza-y-cuidado-personal       2210.04\n",
       "2                  congelados       2111.54\n",
       "1          comidas-preparadas       2019.91\n",
       "3                      frutas       1639.15\n",
       "4        instantaneos-y-sopas       1170.23\n",
       "6                    verduras       1012.70"
      ]
     },
     "execution_count": 5,
     "metadata": {},
     "output_type": "execute_result"
    }
   ],
   "source": [
    "#Seu código aqui\n",
    "df.groupby('Categoria')['Preco_Normal'].std().round(2).reset_index().sort_values('Preco_Normal', ascending=False)\n",
    "# Agrupa o df por categoria de produto e cálcula o desvio padrão de 'Preco_Normal' de cada um(arredondado para duas casas decimais e mostrado em ordem descrecente)"
   ]
  },
  {
   "cell_type": "markdown",
   "metadata": {
    "id": "HzsLO4nOz3yJ"
   },
   "source": [
    "# Digite nesse campo o comportamento que você identificou.\n",
    "\n",
    "Categoria **'lacteos'**: Essa categoria possui o maior desvio padrão e, similarmente, possui a maior diferença entre média **(2385)** e mediana **(989)**, o que signfica que há uma grande chance de haverem outliers \n",
    "\n",
    "Categorias **'belleza-y-cuidado-personal'**, **'congelados'** e **'comidas-preparadas'**: Enquanto a categoria 'lacteos' possui um desvio padrão de **3925**, essas outras 3 maiores categorias possuem um desvio padrão significamente menor que esse e similar entre si, sendo os valores **2210**, **2111**, **2019**. Contudo, enquanto a categoria 'congelados' demonstrou uma grande diferença entre média **(2108)** e mediana **(1519)**, as categorias 'belleza-y-cuidado-personal'e 'comidas-preparadas' mostraram uma diferença bem menor em comparação, com médias de **1783** e **3095** e medianas de **1569** e **3290**, o que pode indicar que enquanto a primeira análise comparando esses 2 valores não deu altos indícios da presença de outliers, essa segunda análise indica o oposto. "
   ]
  },
  {
   "cell_type": "markdown",
   "metadata": {
    "id": "4aW51rCHBr2w"
   },
   "source": [
    "# 3 - Plot um boxplot da distribuição do Preco_Normal para a categoria que você identificou que tem o maior desvio padrão. Como é a distribuição desses dados segundo o boxplot? Você identifica muitos outliers?"
   ]
  },
  {
   "cell_type": "markdown",
   "metadata": {
    "id": "kwPKkUZnEUSb"
   },
   "source": [
    "Dica: Para trazer apenas os dados da categoria que você deseja você pode usar o df.loc[df['Categoria'] == 'CATEGORIA ESCOLHIDA'"
   ]
  },
  {
   "cell_type": "code",
   "execution_count": 6,
   "metadata": {
    "id": "_02thblTCKEF"
   },
   "outputs": [
    {
     "data": {
      "image/png": "[encoded data removed]",
      "text/plain": [
       "<Figure size 1000x600 with 1 Axes>"
      ]
     },
     "metadata": {},
     "output_type": "display_data"
    }
   ],
   "source": [
    "#Seu código aqui\n",
    "df_maior_desvio = df.loc[df['Categoria'] == 'lacteos'] # Cria um df apenas com os dados com categoria 'lacteos', que indica maior desvio (.loc é responsável por encontrálos)\n",
    "\n",
    "plt.figure(figsize=(10, 6)) # Define o tamnaho do gráfico\n",
    "plt.boxplot(df_maior_desvio['Preco_Normal']) # Cria o gráfico de barras usando as categorias como eixo x e a média de desconto como eixo y \n",
    "plt.title('BoxPlot da Categoria de Maior Desvio Padrão', fontsize=15) # Define o título do gráfico e tamanho da fonte\n",
    "plt.ylabel('Preço Normal', fontsize=13) # Define o nome do eixo Y\n",
    "plt.grid(True, linestyle='dotted')\n",
    "plt.show()\n"
   ]
  },
  {
   "cell_type": "markdown",
   "metadata": {},
   "source": [
    "# Análise do Gráfico:\n",
    "\n",
    "A distribuição dos preços do produtos na categoria com maior desvio padrão (lacteos) evidencia que existem muitos outliers com valores tanto um pouco maiores quanto bem maiores do que o esperado. Com isso, confirmamos o que descobrimos com o desvio padrão, bem como com a diferença entre média e mediana dessa categoria e, portanto, um tratamento adequado deve ser realizado para que futuras pesquisas com esses dados possam ser factuais."
   ]
  },
  {
   "cell_type": "markdown",
   "metadata": {
    "id": "w5xgQBC_0Hg-"
   },
   "source": [
    "# 4 - Plote um gráfico de barras onde temos a média de descontos por categoria."
   ]
  },
  {
   "cell_type": "code",
   "execution_count": 7,
   "metadata": {
    "id": "DBj5zAdI0QfI"
   },
   "outputs": [
    {
     "data": {
      "image/png": "[encoded data removed]",
      "text/plain": [
       "<Figure size 1200x600 with 1 Axes>"
      ]
     },
     "metadata": {},
     "output_type": "display_data"
    }
   ],
   "source": [
    "# Seu código aqui\n",
    "df_descontos_categoria = df.groupby('Categoria')['Desconto'].mean().sort_values(ascending=False)\n",
    "# Cria um novo df que agrupa as categorias e cáclcula a média de desconto de cada uma, ordenado de forma descrescente\n",
    "df_descontos_categoria.index = df_descontos_categoria.index.str.replace('-', ' ').str.title()\n",
    "# Tratamento do índice para que a sua visualização no gráfico fico menos confusa e mais compreensível\n",
    "\n",
    "plt.figure(figsize=(12, 6)) \n",
    "plt.bar(df_descontos_categoria.index, df_descontos_categoria, color=\"#149761\") # Cria o gráfico de barras usando as categorias como eixo x e a média de desconto como eixo y \n",
    "plt.title('Média de Descontos por Categoria', fontsize=15) \n",
    "plt.xlabel('Categorias dos Produtos', fontsize=13) # Define o nome do eixo X\n",
    "plt.ylabel('Média de Desconto', fontsize=13)\n",
    "plt.xticks(rotation=45) # Rotaciona o ângulo dos rótulos de categoria para melhor visualização\n",
    "plt.grid(True, linestyle='--') # Define o grid do gráfico\n",
    "plt.show() # Mostra o gráfico\n"
   ]
  },
  {
   "cell_type": "markdown",
   "metadata": {
    "id": "vqlx0w7E07uC"
   },
   "source": [
    "# 5 - Plote um gráfico de mapa interativo agrupando os dados por categoria, marca e trazendo a média de desconto."
   ]
  },
  {
   "cell_type": "code",
   "execution_count": 8,
   "metadata": {
    "id": "D-JWM64Q1NzB"
   },
   "outputs": [
    {
     "data": {
      "application/vnd.plotly.v1+json": {
       "config": {
        "plotlyServerURL": "https://plot.ly"
       },
       "data": [
        {
         "branchvalues": "total",
         "customdata": [
          [
           "Belleza Y Cuidado Personal"
          ],
          [
           "Belleza Y Cuidado Personal"
          ],
          [
           "Belleza Y Cuidado Personal"
          ],
          [
           "Belleza Y Cuidado Personal"
          ],
          [
           "Belleza Y Cuidado Personal"
          ],
          [
           "Belleza Y Cuidado Personal"
          ],
          [
           "Belleza Y Cuidado Personal"
          ],
          [
           "Belleza Y Cuidado Personal"
          ],
          [
           "Belleza Y Cuidado Personal"
          ],
          [
           "Belleza Y Cuidado Personal"
          ],
          [
           "Belleza Y Cuidado Personal"
          ],
          [
           "Belleza Y Cuidado Personal"
          ],
          [
           "Belleza Y Cuidado Personal"
          ],
          [
           "Belleza Y Cuidado Personal"
          ],
          [
           "Belleza Y Cuidado Personal"
          ],
          [
           "Belleza Y Cuidado Personal"
          ],
          [
           "Belleza Y Cuidado Personal"
          ],
          [
           "Belleza Y Cuidado Personal"
          ],
          [
           "Belleza Y Cuidado Personal"
          ],
          [
           "Belleza Y Cuidado Personal"
          ],
          [
           "Belleza Y Cuidado Personal"
          ],
          [
           "Belleza Y Cuidado Personal"
          ],
          [
           "Belleza Y Cuidado Personal"
          ],
          [
           "Belleza Y Cuidado Personal"
          ],
          [
           "Belleza Y Cuidado Personal"
          ],
          [
           "Belleza Y Cuidado Personal"
          ],
          [
           "Belleza Y Cuidado Personal"
          ],
          [
           "Belleza Y Cuidado Personal"
          ],
          [
           "Belleza Y Cuidado Personal"
          ],
          [
           "Belleza Y Cuidado Personal"
          ],
          [
           "Belleza Y Cuidado Personal"
          ],
          [
           "Belleza Y Cuidado Personal"
          ],
          [
           "Belleza Y Cuidado Personal"
          ],
          [
           "Belleza Y Cuidado Personal"
          ],
          [
           "Belleza Y Cuidado Personal"
          ],
          [
           "Belleza Y Cuidado Personal"
          ],
          [
           "Belleza Y Cuidado Personal"
          ],
          [
           "Belleza Y Cuidado Personal"
          ],
          [
           "Belleza Y Cuidado Personal"
          ],
          [
           "Belleza Y Cuidado Personal"
          ],
          [
           "Belleza Y Cuidado Personal"
          ],
          [
           "Belleza Y Cuidado Personal"
          ],
          [
           "Belleza Y Cuidado Personal"
          ],
          [
           "Belleza Y Cuidado Personal"
          ],
          [
           "Belleza Y Cuidado Personal"
          ],
          [
           "Belleza Y Cuidado Personal"
          ],
          [
           "Belleza Y Cuidado Personal"
          ],
          [
           "Belleza Y Cuidado Personal"
          ],
          [
           "Belleza Y Cuidado Personal"
          ],
          [
           "Belleza Y Cuidado Personal"
          ],
          [
           "Belleza Y Cuidado Personal"
          ],
          [
           "Belleza Y Cuidado Personal"
          ],
          [
           "Belleza Y Cuidado Personal"
          ],
          [
           "Belleza Y Cuidado Personal"
          ],
          [
           "Belleza Y Cuidado Personal"
          ],
          [
           "Belleza Y Cuidado Personal"
          ],
          [
           "Belleza Y Cuidado Personal"
          ],
          [
           "Belleza Y Cuidado Personal"
          ],
          [
           "Belleza Y Cuidado Personal"
          ],
          [
           "Belleza Y Cuidado Personal"
          ],
          [
           "Comidas Preparadas"
          ],
          [
           "Comidas Preparadas"
          ],
          [
           "Comidas Preparadas"
          ],
          [
           "Comidas Preparadas"
          ],
          [
           "Comidas Preparadas"
          ],
          [
           "Comidas Preparadas"
          ],
          [
           "Comidas Preparadas"
          ],
          [
           "Comidas Preparadas"
          ],
          [
           "Comidas Preparadas"
          ],
          [
           "Comidas Preparadas"
          ],
          [
           "Congelados"
          ],
          [
           "Congelados"
          ],
          [
           "Congelados"
          ],
          [
           "Congelados"
          ],
          [
           "Congelados"
          ],
          [
           "Congelados"
          ],
          [
           "Congelados"
          ],
          [
           "Congelados"
          ],
          [
           "Congelados"
          ],
          [
           "Congelados"
          ],
          [
           "Congelados"
          ],
          [
           "Congelados"
          ],
          [
           "Congelados"
          ],
          [
           "Congelados"
          ],
          [
           "Congelados"
          ],
          [
           "Congelados"
          ],
          [
           "Congelados"
          ],
          [
           "Congelados"
          ],
          [
           "Congelados"
          ],
          [
           "Congelados"
          ],
          [
           "Congelados"
          ],
          [
           "Congelados"
          ],
          [
           "Congelados"
          ],
          [
           "Congelados"
          ],
          [
           "Congelados"
          ],
          [
           "Congelados"
          ],
          [
           "Congelados"
          ],
          [
           "Congelados"
          ],
          [
           "Congelados"
          ],
          [
           "Congelados"
          ],
          [
           "Congelados"
          ],
          [
           "Congelados"
          ],
          [
           "Congelados"
          ],
          [
           "Congelados"
          ],
          [
           "Frutas"
          ],
          [
           "Frutas"
          ],
          [
           "Frutas"
          ],
          [
           "Frutas"
          ],
          [
           "Instantaneos Y Sopas"
          ],
          [
           "Instantaneos Y Sopas"
          ],
          [
           "Instantaneos Y Sopas"
          ],
          [
           "Instantaneos Y Sopas"
          ],
          [
           "Instantaneos Y Sopas"
          ],
          [
           "Instantaneos Y Sopas"
          ],
          [
           "Instantaneos Y Sopas"
          ],
          [
           "Instantaneos Y Sopas"
          ],
          [
           "Instantaneos Y Sopas"
          ],
          [
           "Instantaneos Y Sopas"
          ],
          [
           "Instantaneos Y Sopas"
          ],
          [
           "Lacteos"
          ],
          [
           "Lacteos"
          ],
          [
           "Lacteos"
          ],
          [
           "Lacteos"
          ],
          [
           "Lacteos"
          ],
          [
           "Lacteos"
          ],
          [
           "Lacteos"
          ],
          [
           "Lacteos"
          ],
          [
           "Lacteos"
          ],
          [
           "Lacteos"
          ],
          [
           "Lacteos"
          ],
          [
           "Lacteos"
          ],
          [
           "Lacteos"
          ],
          [
           "Lacteos"
          ],
          [
           "Lacteos"
          ],
          [
           "Lacteos"
          ],
          [
           "Lacteos"
          ],
          [
           "Lacteos"
          ],
          [
           "Lacteos"
          ],
          [
           "Lacteos"
          ],
          [
           "Lacteos"
          ],
          [
           "Lacteos"
          ],
          [
           "Lacteos"
          ],
          [
           "Lacteos"
          ],
          [
           "Lacteos"
          ],
          [
           "Lacteos"
          ],
          [
           "Lacteos"
          ],
          [
           "Lacteos"
          ],
          [
           "Lacteos"
          ],
          [
           "Lacteos"
          ],
          [
           "Lacteos"
          ],
          [
           "Lacteos"
          ],
          [
           "Lacteos"
          ],
          [
           "Lacteos"
          ],
          [
           "Lacteos"
          ],
          [
           "Lacteos"
          ],
          [
           "Lacteos"
          ],
          [
           "Lacteos"
          ],
          [
           "Lacteos"
          ],
          [
           "Lacteos"
          ],
          [
           "Lacteos"
          ],
          [
           "Lacteos"
          ],
          [
           "Lacteos"
          ],
          [
           "Lacteos"
          ],
          [
           "Lacteos"
          ],
          [
           "Lacteos"
          ],
          [
           "Lacteos"
          ],
          [
           "Lacteos"
          ],
          [
           "Lacteos"
          ],
          [
           "Lacteos"
          ],
          [
           "Verduras"
          ],
          [
           "Verduras"
          ],
          [
           "Verduras"
          ],
          [
           "Verduras"
          ],
          [
           "Verduras"
          ]
         ],
         "domain": {
          "x": [
           0,
           1
          ],
          "y": [
           0,
           1
          ]
         },
         "hovertemplate": "labels=%{label}<br>Desconto=%{value}<br>parent=%{parent}<br>id=%{id}<br>Categoria=%{customdata[0]}<extra></extra>",
         "ids": [
          "Belleza Y Cuidado Personal/Always",
          "Belleza Y Cuidado Personal/Linic",
          "Belleza Y Cuidado Personal/Listerine",
          "Belleza Y Cuidado Personal/Naturella",
          "Belleza Y Cuidado Personal/Nivea",
          "Belleza Y Cuidado Personal/Nivea For Men",
          "Belleza Y Cuidado Personal/Nosotras",
          "Belleza Y Cuidado Personal/Old Spice",
          "Belleza Y Cuidado Personal/Oral Fresh",
          "Belleza Y Cuidado Personal/Oral-B",
          "Belleza Y Cuidado Personal/Pantene",
          "Belleza Y Cuidado Personal/Plenitud",
          "Belleza Y Cuidado Personal/Protex",
          "Belleza Y Cuidado Personal/Rexona",
          "Belleza Y Cuidado Personal/Rexona Clinical",
          "Belleza Y Cuidado Personal/Rexona Men",
          "Belleza Y Cuidado Personal/Rexona Men Clinical",
          "Belleza Y Cuidado Personal/Schick",
          "Belleza Y Cuidado Personal/Sedal",
          "Belleza Y Cuidado Personal/Sensodyne",
          "Belleza Y Cuidado Personal/Simond'S",
          "Belleza Y Cuidado Personal/Simonds",
          "Belleza Y Cuidado Personal/Speed Stick",
          "Belleza Y Cuidado Personal/Tena",
          "Belleza Y Cuidado Personal/Trianon",
          "Belleza Y Cuidado Personal/Tío Nacho",
          "Belleza Y Cuidado Personal/Vanart",
          "Belleza Y Cuidado Personal",
          "Belleza Y Cuidado Personal/Le Sancy",
          "Belleza Y Cuidado Personal/Ladysoft",
          "Belleza Y Cuidado Personal/Pepsodent",
          "Belleza Y Cuidado Personal/Kotex",
          "Belleza Y Cuidado Personal/Aquafresh",
          "Belleza Y Cuidado Personal/Axe",
          "Belleza Y Cuidado Personal/Lady Speed Stick",
          "Belleza Y Cuidado Personal/Ballerina",
          "Belleza Y Cuidado Personal/Bellekiss",
          "Belleza Y Cuidado Personal/BiO",
          "Belleza Y Cuidado Personal/Brooks",
          "Belleza Y Cuidado Personal/Carefree",
          "Belleza Y Cuidado Personal/Colgate",
          "Belleza Y Cuidado Personal/Cotidian",
          "Belleza Y Cuidado Personal/Cotosan",
          "Belleza Y Cuidado Personal/Dento",
          "Belleza Y Cuidado Personal/Dove",
          "Belleza Y Cuidado Personal/Dove Men",
          "Belleza Y Cuidado Personal/Babyland",
          "Belleza Y Cuidado Personal/Elite",
          "Belleza Y Cuidado Personal/Herbal Essences",
          "Belleza Y Cuidado Personal/Herbal",
          "Belleza Y Cuidado Personal/Head & Shoulders",
          "Belleza Y Cuidado Personal/Duralón",
          "Belleza Y Cuidado Personal/Gillette",
          "Belleza Y Cuidado Personal/Giselle",
          "Belleza Y Cuidado Personal/Fructis",
          "Belleza Y Cuidado Personal/Family Care",
          "Belleza Y Cuidado Personal/Familand",
          "Belleza Y Cuidado Personal/Ilicit",
          "Belleza Y Cuidado Personal/Elvive",
          "Belleza Y Cuidado Personal/Garnier",
          "Comidas Preparadas",
          "Comidas Preparadas/Solo Italia",
          "Comidas Preparadas/Santa Isabel",
          "Comidas Preparadas/Rana",
          "Comidas Preparadas/Sadia",
          "Comidas Preparadas/La Crianza",
          "Comidas Preparadas/Cuisine & Co",
          "Comidas Preparadas/Corbac",
          "Comidas Preparadas/Bredenmaster",
          "Comidas Preparadas/PF",
          "Congelados/Sadia",
          "Congelados/Sahne Nuss",
          "Congelados/San Francisco De Loncomilla",
          "Congelados/San Jorge",
          "Congelados/Savory",
          "Congelados/Super Beef",
          "Congelados/Tivoni",
          "Congelados/Super Pollo",
          "Congelados/Turkey Hill",
          "Congelados/Viennetta Bresler",
          "Congelados/Zole",
          "Congelados/Rock",
          "Congelados",
          "Congelados/Super Cerdo",
          "Congelados/Rikü",
          "Congelados/Receta Del Abuelo",
          "Congelados/PF",
          "Congelados/Alimentos Shen",
          "Congelados/Bravissimo",
          "Congelados/Bresler",
          "Congelados/Carte Dor",
          "Congelados/Cuisine & Co",
          "Congelados/Frutos Del Maipo",
          "Congelados/Guallarauco",
          "Congelados/King",
          "Congelados/Fiesta",
          "Congelados/Magnum",
          "Congelados/Mega",
          "Congelados/Minuto Verde",
          "Congelados/Mister Veggie",
          "Congelados/Not Burger",
          "Congelados/Not Chicken",
          "Congelados/Not Ice Cream",
          "Congelados/La Crianza",
          "Frutas/Frutas Y Verduras Propias",
          "Frutas/Frutas Y Verduras Santa Isabel",
          "Frutas/Sofruco",
          "Frutas",
          "Instantaneos Y Sopas/Santa Isabel",
          "Instantaneos Y Sopas",
          "Instantaneos Y Sopas/Naturezza",
          "Instantaneos Y Sopas/Traverso",
          "Instantaneos Y Sopas/Maggi",
          "Instantaneos Y Sopas/Hoffmann",
          "Instantaneos Y Sopas/Gourmet",
          "Instantaneos Y Sopas/Carozzi",
          "Instantaneos Y Sopas/Alcafood",
          "Instantaneos Y Sopas/Máxima MP",
          "Instantaneos Y Sopas/Cuisine & Co",
          "Lacteos/Oikos",
          "Lacteos/Santa Isabel",
          "Lacteos/Omega 3",
          "Lacteos/Pamperita",
          "Lacteos/Qualy",
          "Lacteos/Quillayes",
          "Lacteos/Regimel",
          "Lacteos/Sahne Nuss",
          "Lacteos/San Ignacio",
          "Lacteos",
          "Lacteos/Shake A Shake Lonco Leche",
          "Lacteos/Signore Mario",
          "Lacteos/Soprole",
          "Lacteos/Soprole Activ",
          "Lacteos/Sureña",
          "Lacteos/Surlat",
          "Lacteos/Svelty",
          "Lacteos/Yogu - Yogu",
          "Lacteos/Zerolacto",
          "Lacteos/Not Milk",
          "Lacteos/Santa Marta",
          "Lacteos/Nido",
          "Lacteos/Danone",
          "Lacteos/Nestlé",
          "Lacteos/1+1 Soprole",
          "Lacteos/Activia",
          "Lacteos/Astra",
          "Lacteos/Base Culinar",
          "Lacteos/Bonella",
          "Lacteos/Calan",
          "Lacteos/Calo",
          "Lacteos/Chamyto",
          "Lacteos/Chiquitín",
          "Lacteos/Cintazul",
          "Lacteos/Next",
          "Lacteos/Colun",
          "Lacteos/Collico",
          "Lacteos/Crucina",
          "Lacteos/Cuisine & Co",
          "Lacteos/Deline",
          "Lacteos/Ideal",
          "Lacteos/Kumey",
          "Lacteos/Lefersa",
          "Lacteos/Light & Free",
          "Lacteos/Nesquik",
          "Lacteos/Copacabana",
          "Lacteos/Máxima MP",
          "Lacteos/Marco Polo",
          "Lacteos/Loncoleche",
          "Lacteos/Los Alerces",
          "Verduras/Dole",
          "Verduras/Frutas Y Verduras Propias",
          "Verduras/Agrosano",
          "Verduras/Jumbo",
          "Verduras"
         ],
         "labels": [
          "Always",
          "Linic",
          "Listerine",
          "Naturella",
          "Nivea",
          "Nivea For Men",
          "Nosotras",
          "Old Spice",
          "Oral Fresh",
          "Oral-B",
          "Pantene",
          "Plenitud",
          "Protex",
          "Rexona",
          "Rexona Clinical",
          "Rexona Men",
          "Rexona Men Clinical",
          "Schick",
          "Sedal",
          "Sensodyne",
          "Simond'S",
          "Simonds",
          "Speed Stick",
          "Tena",
          "Trianon",
          "Tío Nacho",
          "Vanart",
          "Belleza Y Cuidado Personal",
          "Le Sancy",
          "Ladysoft",
          "Pepsodent",
          "Kotex",
          "Aquafresh",
          "Axe",
          "Lady Speed Stick",
          "Ballerina",
          "Bellekiss",
          "BiO",
          "Brooks",
          "Carefree",
          "Colgate",
          "Cotidian",
          "Cotosan",
          "Dento",
          "Dove",
          "Dove Men",
          "Babyland",
          "Elite",
          "Herbal Essences",
          "Herbal",
          "Head & Shoulders",
          "Duralón",
          "Gillette",
          "Giselle",
          "Fructis",
          "Family Care",
          "Familand",
          "Ilicit",
          "Elvive",
          "Garnier",
          "Comidas Preparadas",
          "Solo Italia",
          "Santa Isabel",
          "Rana",
          "Sadia",
          "La Crianza",
          "Cuisine & Co",
          "Corbac",
          "Bredenmaster",
          "PF",
          "Sadia",
          "Sahne Nuss",
          "San Francisco De Loncomilla",
          "San Jorge",
          "Savory",
          "Super Beef",
          "Tivoni",
          "Super Pollo",
          "Turkey Hill",
          "Viennetta Bresler",
          "Zole",
          "Rock",
          "Congelados",
          "Super Cerdo",
          "Rikü",
          "Receta Del Abuelo",
          "PF",
          "Alimentos Shen",
          "Bravissimo",
          "Bresler",
          "Carte Dor",
          "Cuisine & Co",
          "Frutos Del Maipo",
          "Guallarauco",
          "King",
          "Fiesta",
          "Magnum",
          "Mega",
          "Minuto Verde",
          "Mister Veggie",
          "Not Burger",
          "Not Chicken",
          "Not Ice Cream",
          "La Crianza",
          "Frutas Y Verduras Propias",
          "Frutas Y Verduras Santa Isabel",
          "Sofruco",
          "Frutas",
          "Santa Isabel",
          "Instantaneos Y Sopas",
          "Naturezza",
          "Traverso",
          "Maggi",
          "Hoffmann",
          "Gourmet",
          "Carozzi",
          "Alcafood",
          "Máxima MP",
          "Cuisine & Co",
          "Oikos",
          "Santa Isabel",
          "Omega 3",
          "Pamperita",
          "Qualy",
          "Quillayes",
          "Regimel",
          "Sahne Nuss",
          "San Ignacio",
          "Lacteos",
          "Shake A Shake Lonco Leche",
          "Signore Mario",
          "Soprole",
          "Soprole Activ",
          "Sureña",
          "Surlat",
          "Svelty",
          "Yogu - Yogu",
          "Zerolacto",
          "Not Milk",
          "Santa Marta",
          "Nido",
          "Danone",
          "Nestlé",
          "1+1 Soprole",
          "Activia",
          "Astra",
          "Base Culinar",
          "Bonella",
          "Calan",
          "Calo",
          "Chamyto",
          "Chiquitín",
          "Cintazul",
          "Next",
          "Colun",
          "Collico",
          "Crucina",
          "Cuisine & Co",
          "Deline",
          "Ideal",
          "Kumey",
          "Lefersa",
          "Light & Free",
          "Nesquik",
          "Copacabana",
          "Máxima MP",
          "Marco Polo",
          "Loncoleche",
          "Los Alerces",
          "Dole",
          "Frutas Y Verduras Propias",
          "Agrosano",
          "Jumbo",
          "Verduras"
         ],
         "marker": {
          "colors": [
           "#636efa",
           "#636efa",
           "#636efa",
           "#636efa",
           "#636efa",
           "#636efa",
           "#636efa",
           "#636efa",
           "#636efa",
           "#636efa",
           "#636efa",
           "#636efa",
           "#636efa",
           "#636efa",
           "#636efa",
           "#636efa",
           "#636efa",
           "#636efa",
           "#636efa",
           "#636efa",
           "#636efa",
           "#636efa",
           "#636efa",
           "#636efa",
           "#636efa",
           "#636efa",
           "#636efa",
           "#636efa",
           "#636efa",
           "#636efa",
           "#636efa",
           "#636efa",
           "#636efa",
           "#636efa",
           "#636efa",
           "#636efa",
           "#636efa",
           "#636efa",
           "#636efa",
           "#636efa",
           "#636efa",
           "#636efa",
           "#636efa",
           "#636efa",
           "#636efa",
           "#636efa",
           "#636efa",
           "#636efa",
           "#636efa",
           "#636efa",
           "#636efa",
           "#636efa",
           "#636efa",
           "#636efa",
           "#636efa",
           "#636efa",
           "#636efa",
           "#636efa",
           "#636efa",
           "#636efa",
           "#EF553B",
           "#EF553B",
           "#EF553B",
           "#EF553B",
           "#EF553B",
           "#EF553B",
           "#EF553B",
           "#EF553B",
           "#EF553B",
           "#EF553B",
           "#00cc96",
           "#00cc96",
           "#00cc96",
           "#00cc96",
           "#00cc96",
           "#00cc96",
           "#00cc96",
           "#00cc96",
           "#00cc96",
           "#00cc96",
           "#00cc96",
           "#00cc96",
           "#00cc96",
           "#00cc96",
           "#00cc96",
           "#00cc96",
           "#00cc96",
           "#00cc96",
           "#00cc96",
           "#00cc96",
           "#00cc96",
           "#00cc96",
           "#00cc96",
           "#00cc96",
           "#00cc96",
           "#00cc96",
           "#00cc96",
           "#00cc96",
           "#00cc96",
           "#00cc96",
           "#00cc96",
           "#00cc96",
           "#00cc96",
           "#00cc96",
           "#ab63fa",
           "#ab63fa",
           "#ab63fa",
           "#ab63fa",
           "#FFA15A",
           "#FFA15A",
           "#FFA15A",
           "#FFA15A",
           "#FFA15A",
           "#FFA15A",
           "#FFA15A",
           "#FFA15A",
           "#FFA15A",
           "#FFA15A",
           "#FFA15A",
           "#19d3f3",
           "#19d3f3",
           "#19d3f3",
           "#19d3f3",
           "#19d3f3",
           "#19d3f3",
           "#19d3f3",
           "#19d3f3",
           "#19d3f3",
           "#19d3f3",
           "#19d3f3",
           "#19d3f3",
           "#19d3f3",
           "#19d3f3",
           "#19d3f3",
           "#19d3f3",
           "#19d3f3",
           "#19d3f3",
           "#19d3f3",
           "#19d3f3",
           "#19d3f3",
           "#19d3f3",
           "#19d3f3",
           "#19d3f3",
           "#19d3f3",
           "#19d3f3",
           "#19d3f3",
           "#19d3f3",
           "#19d3f3",
           "#19d3f3",
           "#19d3f3",
           "#19d3f3",
           "#19d3f3",
           "#19d3f3",
           "#19d3f3",
           "#19d3f3",
           "#19d3f3",
           "#19d3f3",
           "#19d3f3",
           "#19d3f3",
           "#19d3f3",
           "#19d3f3",
           "#19d3f3",
           "#19d3f3",
           "#19d3f3",
           "#19d3f3",
           "#19d3f3",
           "#19d3f3",
           "#19d3f3",
           "#19d3f3",
           "#FF6692",
           "#FF6692",
           "#FF6692",
           "#FF6692",
           "#FF6692"
          ]
         },
         "name": "",
         "parents": [
          "Belleza Y Cuidado Personal",
          "Belleza Y Cuidado Personal",
          "Belleza Y Cuidado Personal",
          "Belleza Y Cuidado Personal",
          "Belleza Y Cuidado Personal",
          "Belleza Y Cuidado Personal",
          "Belleza Y Cuidado Personal",
          "Belleza Y Cuidado Personal",
          "Belleza Y Cuidado Personal",
          "Belleza Y Cuidado Personal",
          "Belleza Y Cuidado Personal",
          "Belleza Y Cuidado Personal",
          "Belleza Y Cuidado Personal",
          "Belleza Y Cuidado Personal",
          "Belleza Y Cuidado Personal",
          "Belleza Y Cuidado Personal",
          "Belleza Y Cuidado Personal",
          "Belleza Y Cuidado Personal",
          "Belleza Y Cuidado Personal",
          "Belleza Y Cuidado Personal",
          "Belleza Y Cuidado Personal",
          "Belleza Y Cuidado Personal",
          "Belleza Y Cuidado Personal",
          "Belleza Y Cuidado Personal",
          "Belleza Y Cuidado Personal",
          "Belleza Y Cuidado Personal",
          "Belleza Y Cuidado Personal",
          "",
          "Belleza Y Cuidado Personal",
          "Belleza Y Cuidado Personal",
          "Belleza Y Cuidado Personal",
          "Belleza Y Cuidado Personal",
          "Belleza Y Cuidado Personal",
          "Belleza Y Cuidado Personal",
          "Belleza Y Cuidado Personal",
          "Belleza Y Cuidado Personal",
          "Belleza Y Cuidado Personal",
          "Belleza Y Cuidado Personal",
          "Belleza Y Cuidado Personal",
          "Belleza Y Cuidado Personal",
          "Belleza Y Cuidado Personal",
          "Belleza Y Cuidado Personal",
          "Belleza Y Cuidado Personal",
          "Belleza Y Cuidado Personal",
          "Belleza Y Cuidado Personal",
          "Belleza Y Cuidado Personal",
          "Belleza Y Cuidado Personal",
          "Belleza Y Cuidado Personal",
          "Belleza Y Cuidado Personal",
          "Belleza Y Cuidado Personal",
          "Belleza Y Cuidado Personal",
          "Belleza Y Cuidado Personal",
          "Belleza Y Cuidado Personal",
          "Belleza Y Cuidado Personal",
          "Belleza Y Cuidado Personal",
          "Belleza Y Cuidado Personal",
          "Belleza Y Cuidado Personal",
          "Belleza Y Cuidado Personal",
          "Belleza Y Cuidado Personal",
          "Belleza Y Cuidado Personal",
          "",
          "Comidas Preparadas",
          "Comidas Preparadas",
          "Comidas Preparadas",
          "Comidas Preparadas",
          "Comidas Preparadas",
          "Comidas Preparadas",
          "Comidas Preparadas",
          "Comidas Preparadas",
          "Comidas Preparadas",
          "Congelados",
          "Congelados",
          "Congelados",
          "Congelados",
          "Congelados",
          "Congelados",
          "Congelados",
          "Congelados",
          "Congelados",
          "Congelados",
          "Congelados",
          "Congelados",
          "",
          "Congelados",
          "Congelados",
          "Congelados",
          "Congelados",
          "Congelados",
          "Congelados",
          "Congelados",
          "Congelados",
          "Congelados",
          "Congelados",
          "Congelados",
          "Congelados",
          "Congelados",
          "Congelados",
          "Congelados",
          "Congelados",
          "Congelados",
          "Congelados",
          "Congelados",
          "Congelados",
          "Congelados",
          "Frutas",
          "Frutas",
          "Frutas",
          "",
          "Instantaneos Y Sopas",
          "",
          "Instantaneos Y Sopas",
          "Instantaneos Y Sopas",
          "Instantaneos Y Sopas",
          "Instantaneos Y Sopas",
          "Instantaneos Y Sopas",
          "Instantaneos Y Sopas",
          "Instantaneos Y Sopas",
          "Instantaneos Y Sopas",
          "Instantaneos Y Sopas",
          "Lacteos",
          "Lacteos",
          "Lacteos",
          "Lacteos",
          "Lacteos",
          "Lacteos",
          "Lacteos",
          "Lacteos",
          "Lacteos",
          "",
          "Lacteos",
          "Lacteos",
          "Lacteos",
          "Lacteos",
          "Lacteos",
          "Lacteos",
          "Lacteos",
          "Lacteos",
          "Lacteos",
          "Lacteos",
          "Lacteos",
          "Lacteos",
          "Lacteos",
          "Lacteos",
          "Lacteos",
          "Lacteos",
          "Lacteos",
          "Lacteos",
          "Lacteos",
          "Lacteos",
          "Lacteos",
          "Lacteos",
          "Lacteos",
          "Lacteos",
          "Lacteos",
          "Lacteos",
          "Lacteos",
          "Lacteos",
          "Lacteos",
          "Lacteos",
          "Lacteos",
          "Lacteos",
          "Lacteos",
          "Lacteos",
          "Lacteos",
          "Lacteos",
          "Lacteos",
          "Lacteos",
          "Lacteos",
          "Lacteos",
          "Verduras",
          "Verduras",
          "Verduras",
          "Verduras",
          ""
         ],
         "root": {
          "color": "lightgrey"
         },
         "type": "treemap",
         "values": {
          "bdata": "AAAAAADwXkAAAAAAAAAAAAAAAAAAAAAAAAAAAAAAAAAAAAAAAAAAAAAAAAAAAAAAzczMzMzcWUAAAAAAAAAAAAAAAAAA6IhApHA9CtcjVkB7FK5H4WaFQAAAAAAAAAAAAAAAAAAIc0AAAAAAAKCEQAAAAAAA2IhAAAAAAACghEAAAAAAANiIQAAAAAAAAAAAAAAAAAAAAAAAAAAAAAAAAAAAAAAAAAAAAAAAAADAckAAAAAAAAAAAAAAAAAAAAAAAAAAAAAAAAAAAAAAAAAAAAAAAAAAAAAAKVyPwjVCwEAAAAAAAAAAAIXrUbgetVdA4XoUrkeFdUD2KFyPwpVLQB+F61G4yntAAAAAAABwgkAAAAAAAAAAAArXo3A9CkFAAAAAAAAAAAAAAAAAAFCEQAAAAAAAAAAAAAAAAAAAAABmZmZmZkZdQAAAAAAAAAAAAAAAAAAAAAAAAAAAAAAAAFK4HoXr3XpAAAAAAACIb0AAAAAAAAAAAAAAAAAAAAAAAAAAAAAAAAAAAAAAAAAAAAAAAAAAAAAAAAAAAAAAAAAAAAAAAAAAAAAAAAAAAAAAAAAAAAAAAAAAAAAAAAAAAAAAAAAAAAAAAAAAAAAAAAAAAAAAAAAAAAAAAAAAAAAAAAAAAAAAaUAAAAAAAAAAAAAAAAAAAAAAAAAAAAAAAAAAAAAAAAAAAAAAAAAAAAAAAAAAAAAAAAAAAAAAAAAAAAAAAAAAAAAAAAAAAAAAaUAAAAAAAAAAAAAAAAAAiGRAAAAAAAAAAAAAAAAAAIBRQMP1KFyPgnxAAAAAAAAAXkAAAAAAAAAAAAAAAAAAAAAAAAAAAAAAAAAAAAAAABCBQAAAAAAAAAAAAAAAAAAAAADD9Shcz62wQAAAAAAAAAAAAAAAAAAAAAAAAAAAAAAAAAAAAAAAAAAAAAAAAAAAAAAAAAAAAAAAAHE9Ctej3HpAAAAAAABYdkB7FK5H4YpiQHE9CtejCGFAAAAAAAAAAAAAAAAAAAAAAAAAAAAAAAAAAAAAAADYjUAAAAAAAIiEQAAAAAAAgDNAAAAAAAAAAAAAAAAAAEBqQAAAAAAAAAAAAAAAAAAAAAAAAAAAAAAAAAAAAAAAAAAAAAAAAAAAAAAAAAAAAAAAAAAAAAAAAAAAAAAAAAAAAAAAAAAAAAAAAAAAAAAAAAAAAAAAAAAAAAAAAAAAAAAAAAAAAAAAAAAAAAAAAAAAAAAAAAAAAAAAAAAAAAAAAAAAAAAAAAAAAAAAAAAAAAAAAAAAAAAAAAAAAAAAAAAAAAAAAAAAAAAAAAAAAAAAAAAAAAAAAAAAAAAAAAAAAAAAAAAAAAAAAAAAAAAAAAAAAAAAAAAAAAAAAKRwPQrXBpdAAAAAAAAAAAAAAAAAAAAAADMzMzMzsyVAAAAAAAAAAAAAAAAAAFBwQAAAAAAAAAAAAAAAAAAAAAAAAAAAAAAAAAAAAAAAAAAAAAAAAAAAZEAAAAAAALBiQGZmZmZmLotAAAAAAAAAAABSuB6F61H8PwAAAAAAAAAAAAAAAAAAAAAAAAAAAAAAAAAAAAAAAAAAAAAAAAAAAAAAAAAAAAAAAAAAAAAAAAAAAAAAAAAAAAAAAAAAAAAAAAAAAAAAAAAAAAAAAAAAAADhehSuR+ERQAAAAAAAAAAAAAAAAAAAAABSuB6F61EwQAAAAAAAAAAAAAAAAAAAAAAAAAAAAAAAAAAAAAAAAAAAAAAAAAAAAAAAAAAAAAAAAAAAAAAAAAAAAAAAAAAAAAAAAAAAAAAAAAAAAAAAAAAAAAAAAAAAAAAAAAAAAAAAAAAAAAAAAAAAAAAAAAAAAAAAAAAAAAAAAAAAAAAAAAAA",
          "dtype": "f8"
         }
        }
       ],
       "layout": {
        "legend": {
         "tracegroupgap": 0
        },
        "margin": {
         "b": 25,
         "l": 25,
         "r": 25,
         "t": 50
        },
        "template": {
         "data": {
          "bar": [
           {
            "error_x": {
             "color": "#2a3f5f"
            },
            "error_y": {
             "color": "#2a3f5f"
            },
            "marker": {
             "line": {
              "color": "#E5ECF6",
              "width": 0.5
             },
             "pattern": {
              "fillmode": "overlay",
              "size": 10,
              "solidity": 0.2
             }
            },
            "type": "bar"
           }
          ],
          "barpolar": [
           {
            "marker": {
             "line": {
              "color": "#E5ECF6",
              "width": 0.5
             },
             "pattern": {
              "fillmode": "overlay",
              "size": 10,
              "solidity": 0.2
             }
            },
            "type": "barpolar"
           }
          ],
          "carpet": [
           {
            "aaxis": {
             "endlinecolor": "#2a3f5f",
             "gridcolor": "white",
             "linecolor": "white",
             "minorgridcolor": "white",
             "startlinecolor": "#2a3f5f"
            },
            "baxis": {
             "endlinecolor": "#2a3f5f",
             "gridcolor": "white",
             "linecolor": "white",
             "minorgridcolor": "white",
             "startlinecolor": "#2a3f5f"
            },
            "type": "carpet"
           }
          ],
          "choropleth": [
           {
            "colorbar": {
             "outlinewidth": 0,
             "ticks": ""
            },
            "type": "choropleth"
           }
          ],
          "contour": [
           {
            "colorbar": {
             "outlinewidth": 0,
             "ticks": ""
            },
            "colorscale": [
             [
              0,
              "#0d0887"
             ],
             [
              0.1111111111111111,
              "#46039f"
             ],
             [
              0.2222222222222222,
              "#7201a8"
             ],
             [
              0.3333333333333333,
              "#9c179e"
             ],
             [
              0.4444444444444444,
              "#bd3786"
             ],
             [
              0.5555555555555556,
              "#d8576b"
             ],
             [
              0.6666666666666666,
              "#ed7953"
             ],
             [
              0.7777777777777778,
              "#fb9f3a"
             ],
             [
              0.8888888888888888,
              "#fdca26"
             ],
             [
              1,
              "#f0f921"
             ]
            ],
            "type": "contour"
           }
          ],
          "contourcarpet": [
           {
            "colorbar": {
             "outlinewidth": 0,
             "ticks": ""
            },
            "type": "contourcarpet"
           }
          ],
          "heatmap": [
           {
            "colorbar": {
             "outlinewidth": 0,
             "ticks": ""
            },
            "colorscale": [
             [
              0,
              "#0d0887"
             ],
             [
              0.1111111111111111,
              "#46039f"
             ],
             [
              0.2222222222222222,
              "#7201a8"
             ],
             [
              0.3333333333333333,
              "#9c179e"
             ],
             [
              0.4444444444444444,
              "#bd3786"
             ],
             [
              0.5555555555555556,
              "#d8576b"
             ],
             [
              0.6666666666666666,
              "#ed7953"
             ],
             [
              0.7777777777777778,
              "#fb9f3a"
             ],
             [
              0.8888888888888888,
              "#fdca26"
             ],
             [
              1,
              "#f0f921"
             ]
            ],
            "type": "heatmap"
           }
          ],
          "histogram": [
           {
            "marker": {
             "pattern": {
              "fillmode": "overlay",
              "size": 10,
              "solidity": 0.2
             }
            },
            "type": "histogram"
           }
          ],
          "histogram2d": [
           {
            "colorbar": {
             "outlinewidth": 0,
             "ticks": ""
            },
            "colorscale": [
             [
              0,
              "#0d0887"
             ],
             [
              0.1111111111111111,
              "#46039f"
             ],
             [
              0.2222222222222222,
              "#7201a8"
             ],
             [
              0.3333333333333333,
              "#9c179e"
             ],
             [
              0.4444444444444444,
              "#bd3786"
             ],
             [
              0.5555555555555556,
              "#d8576b"
             ],
             [
              0.6666666666666666,
              "#ed7953"
             ],
             [
              0.7777777777777778,
              "#fb9f3a"
             ],
             [
              0.8888888888888888,
              "#fdca26"
             ],
             [
              1,
              "#f0f921"
             ]
            ],
            "type": "histogram2d"
           }
          ],
          "histogram2dcontour": [
           {
            "colorbar": {
             "outlinewidth": 0,
             "ticks": ""
            },
            "colorscale": [
             [
              0,
              "#0d0887"
             ],
             [
              0.1111111111111111,
              "#46039f"
             ],
             [
              0.2222222222222222,
              "#7201a8"
             ],
             [
              0.3333333333333333,
              "#9c179e"
             ],
             [
              0.4444444444444444,
              "#bd3786"
             ],
             [
              0.5555555555555556,
              "#d8576b"
             ],
             [
              0.6666666666666666,
              "#ed7953"
             ],
             [
              0.7777777777777778,
              "#fb9f3a"
             ],
             [
              0.8888888888888888,
              "#fdca26"
             ],
             [
              1,
              "#f0f921"
             ]
            ],
            "type": "histogram2dcontour"
           }
          ],
          "mesh3d": [
           {
            "colorbar": {
             "outlinewidth": 0,
             "ticks": ""
            },
            "type": "mesh3d"
           }
          ],
          "parcoords": [
           {
            "line": {
             "colorbar": {
              "outlinewidth": 0,
              "ticks": ""
             }
            },
            "type": "parcoords"
           }
          ],
          "pie": [
           {
            "automargin": true,
            "type": "pie"
           }
          ],
          "scatter": [
           {
            "fillpattern": {
             "fillmode": "overlay",
             "size": 10,
             "solidity": 0.2
            },
            "type": "scatter"
           }
          ],
          "scatter3d": [
           {
            "line": {
             "colorbar": {
              "outlinewidth": 0,
              "ticks": ""
             }
            },
            "marker": {
             "colorbar": {
              "outlinewidth": 0,
              "ticks": ""
             }
            },
            "type": "scatter3d"
           }
          ],
          "scattercarpet": [
           {
            "marker": {
             "colorbar": {
              "outlinewidth": 0,
              "ticks": ""
             }
            },
            "type": "scattercarpet"
           }
          ],
          "scattergeo": [
           {
            "marker": {
             "colorbar": {
              "outlinewidth": 0,
              "ticks": ""
             }
            },
            "type": "scattergeo"
           }
          ],
          "scattergl": [
           {
            "marker": {
             "colorbar": {
              "outlinewidth": 0,
              "ticks": ""
             }
            },
            "type": "scattergl"
           }
          ],
          "scattermap": [
           {
            "marker": {
             "colorbar": {
              "outlinewidth": 0,
              "ticks": ""
             }
            },
            "type": "scattermap"
           }
          ],
          "scattermapbox": [
           {
            "marker": {
             "colorbar": {
              "outlinewidth": 0,
              "ticks": ""
             }
            },
            "type": "scattermapbox"
           }
          ],
          "scatterpolar": [
           {
            "marker": {
             "colorbar": {
              "outlinewidth": 0,
              "ticks": ""
             }
            },
            "type": "scatterpolar"
           }
          ],
          "scatterpolargl": [
           {
            "marker": {
             "colorbar": {
              "outlinewidth": 0,
              "ticks": ""
             }
            },
            "type": "scatterpolargl"
           }
          ],
          "scatterternary": [
           {
            "marker": {
             "colorbar": {
              "outlinewidth": 0,
              "ticks": ""
             }
            },
            "type": "scatterternary"
           }
          ],
          "surface": [
           {
            "colorbar": {
             "outlinewidth": 0,
             "ticks": ""
            },
            "colorscale": [
             [
              0,
              "#0d0887"
             ],
             [
              0.1111111111111111,
              "#46039f"
             ],
             [
              0.2222222222222222,
              "#7201a8"
             ],
             [
              0.3333333333333333,
              "#9c179e"
             ],
             [
              0.4444444444444444,
              "#bd3786"
             ],
             [
              0.5555555555555556,
              "#d8576b"
             ],
             [
              0.6666666666666666,
              "#ed7953"
             ],
             [
              0.7777777777777778,
              "#fb9f3a"
             ],
             [
              0.8888888888888888,
              "#fdca26"
             ],
             [
              1,
              "#f0f921"
             ]
            ],
            "type": "surface"
           }
          ],
          "table": [
           {
            "cells": {
             "fill": {
              "color": "#EBF0F8"
             },
             "line": {
              "color": "white"
             }
            },
            "header": {
             "fill": {
              "color": "#C8D4E3"
             },
             "line": {
              "color": "white"
             }
            },
            "type": "table"
           }
          ]
         },
         "layout": {
          "annotationdefaults": {
           "arrowcolor": "#2a3f5f",
           "arrowhead": 0,
           "arrowwidth": 1
          },
          "autotypenumbers": "strict",
          "coloraxis": {
           "colorbar": {
            "outlinewidth": 0,
            "ticks": ""
           }
          },
          "colorscale": {
           "diverging": [
            [
             0,
             "#8e0152"
            ],
            [
             0.1,
             "#c51b7d"
            ],
            [
             0.2,
             "#de77ae"
            ],
            [
             0.3,
             "#f1b6da"
            ],
            [
             0.4,
             "#fde0ef"
            ],
            [
             0.5,
             "#f7f7f7"
            ],
            [
             0.6,
             "#e6f5d0"
            ],
            [
             0.7,
             "#b8e186"
            ],
            [
             0.8,
             "#7fbc41"
            ],
            [
             0.9,
             "#4d9221"
            ],
            [
             1,
             "#276419"
            ]
           ],
           "sequential": [
            [
             0,
             "#0d0887"
            ],
            [
             0.1111111111111111,
             "#46039f"
            ],
            [
             0.2222222222222222,
             "#7201a8"
            ],
            [
             0.3333333333333333,
             "#9c179e"
            ],
            [
             0.4444444444444444,
             "#bd3786"
            ],
            [
             0.5555555555555556,
             "#d8576b"
            ],
            [
             0.6666666666666666,
             "#ed7953"
            ],
            [
             0.7777777777777778,
             "#fb9f3a"
            ],
            [
             0.8888888888888888,
             "#fdca26"
            ],
            [
             1,
             "#f0f921"
            ]
           ],
           "sequentialminus": [
            [
             0,
             "#0d0887"
            ],
            [
             0.1111111111111111,
             "#46039f"
            ],
            [
             0.2222222222222222,
             "#7201a8"
            ],
            [
             0.3333333333333333,
             "#9c179e"
            ],
            [
             0.4444444444444444,
             "#bd3786"
            ],
            [
             0.5555555555555556,
             "#d8576b"
            ],
            [
             0.6666666666666666,
             "#ed7953"
            ],
            [
             0.7777777777777778,
             "#fb9f3a"
            ],
            [
             0.8888888888888888,
             "#fdca26"
            ],
            [
             1,
             "#f0f921"
            ]
           ]
          },
          "colorway": [
           "#636efa",
           "#EF553B",
           "#00cc96",
           "#ab63fa",
           "#FFA15A",
           "#19d3f3",
           "#FF6692",
           "#B6E880",
           "#FF97FF",
           "#FECB52"
          ],
          "font": {
           "color": "#2a3f5f"
          },
          "geo": {
           "bgcolor": "white",
           "lakecolor": "white",
           "landcolor": "#E5ECF6",
           "showlakes": true,
           "showland": true,
           "subunitcolor": "white"
          },
          "hoverlabel": {
           "align": "left"
          },
          "hovermode": "closest",
          "mapbox": {
           "style": "light"
          },
          "paper_bgcolor": "white",
          "plot_bgcolor": "#E5ECF6",
          "polar": {
           "angularaxis": {
            "gridcolor": "white",
            "linecolor": "white",
            "ticks": ""
           },
           "bgcolor": "#E5ECF6",
           "radialaxis": {
            "gridcolor": "white",
            "linecolor": "white",
            "ticks": ""
           }
          },
          "scene": {
           "xaxis": {
            "backgroundcolor": "#E5ECF6",
            "gridcolor": "white",
            "gridwidth": 2,
            "linecolor": "white",
            "showbackground": true,
            "ticks": "",
            "zerolinecolor": "white"
           },
           "yaxis": {
            "backgroundcolor": "#E5ECF6",
            "gridcolor": "white",
            "gridwidth": 2,
            "linecolor": "white",
            "showbackground": true,
            "ticks": "",
            "zerolinecolor": "white"
           },
           "zaxis": {
            "backgroundcolor": "#E5ECF6",
            "gridcolor": "white",
            "gridwidth": 2,
            "linecolor": "white",
            "showbackground": true,
            "ticks": "",
            "zerolinecolor": "white"
           }
          },
          "shapedefaults": {
           "line": {
            "color": "#2a3f5f"
           }
          },
          "ternary": {
           "aaxis": {
            "gridcolor": "white",
            "linecolor": "white",
            "ticks": ""
           },
           "baxis": {
            "gridcolor": "white",
            "linecolor": "white",
            "ticks": ""
           },
           "bgcolor": "#E5ECF6",
           "caxis": {
            "gridcolor": "white",
            "linecolor": "white",
            "ticks": ""
           }
          },
          "title": {
           "x": 0.05
          },
          "xaxis": {
           "automargin": true,
           "gridcolor": "white",
           "linecolor": "white",
           "ticks": "",
           "title": {
            "standoff": 15
           },
           "zerolinecolor": "white",
           "zerolinewidth": 2
          },
          "yaxis": {
           "automargin": true,
           "gridcolor": "white",
           "linecolor": "white",
           "ticks": "",
           "title": {
            "standoff": 15
           },
           "zerolinecolor": "white",
           "zerolinewidth": 2
          }
         }
        },
        "title": {
         "text": "Média de Descontos por Categoria e Marca"
        }
       }
      }
     },
     "metadata": {},
     "output_type": "display_data"
    }
   ],
   "source": [
    "# Seu código aqui\n",
    "df_categoria_marca = df.groupby(['Categoria', 'Marca'])['Desconto'].mean().round(2).reset_index()\n",
    "# Cria um novo df que agrupa as categorias e as marcas e cáclcula a média de desconto de cada uma\n",
    "df_categoria_marca['Categoria'] = df_categoria_marca['Categoria'].str.replace('-', ' ').str.title()\n",
    "# Tratamento das categorias para que a sua visualização no gráfico fico menos confusa e mais compreensível\n",
    "\n",
    "fig = px.treemap(df_categoria_marca, # Cria o gráfico de mapa de árvore interativo, usando o df criado na linha acima\n",
    "                path=['Categoria', 'Marca'], # Define quais as colunas do df que formam os blocos do gráfico\n",
    "                values='Desconto', # Define quais valores a serem mostrados nos blocos, definem o tamanho de cada um de acordo com seu valor\n",
    "                title='Média de Descontos por Categoria e Marca', # Define o título do gráfico\n",
    "                color='Categoria') # Define a cor dos blocos de acordo com cada categoria no df\n",
    "\n",
    "fig.update_traces(root_color=\"lightgrey\") # Altera a cor raiz do gráfico\n",
    "\n",
    "fig.update_layout(margin = dict(t=50, l=25, r=25, b=25)) # Altera o tamanho do gráfico\n",
    "\n",
    "fig.show() # Mostra o gráfico"
   ]
  }
 ],
 "metadata": {
  "colab": {
   "provenance": []
  },
  "kernelspec": {
   "display_name": ".venv",
   "language": "python",
   "name": "python3"
  },
  "language_info": {
   "codemirror_mode": {
    "name": "ipython",
    "version": 3
   },
   "file_extension": ".py",
   "mimetype": "text/x-python",
   "name": "python",
   "nbconvert_exporter": "python",
   "pygments_lexer": "ipython3",
   "version": "3.12.4"
  }
 },
 "nbformat": 4,
 "nbformat_minor": 0
}
